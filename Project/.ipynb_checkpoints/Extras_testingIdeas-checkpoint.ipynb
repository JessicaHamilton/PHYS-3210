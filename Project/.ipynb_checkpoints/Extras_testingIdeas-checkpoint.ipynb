{
 "cells": [
  {
   "cell_type": "code",
   "execution_count": 1,
   "metadata": {},
   "outputs": [],
   "source": [
    "import numpy as np\n",
    "import gzip\n",
    "import matplotlib.pyplot as plt\n",
    "from astropy.io import fits as fits\n",
    "from astropy.stats import sigma_clip\n",
    "import lightkurve as lk\n",
    "from lightkurve import SFFCorrector\n",
    "from lightkurve import search_tesscut\n",
    "import astropy.units as u\n",
    "from astropy import stats\n",
    "import time as datetime\n",
    "from lightkurve import periodogram\n",
    "from astropy.convolution import Box1DKernel, convolve\n",
    "from tqdm import tqdm_notebook as tqdm\n",
    "import numpy.linalg as lin\n",
    "import scipy.linalg as sclin\n",
    "from scipy import stats as st\n",
    "import pandas as pd\n",
    "\n",
    "from scipy import ndimage as nd\n",
    "import re\n",
    "plt.rcParams.update({'figure.max_open_warning': 0})\n",
    "import warnings\n",
    "warnings.filterwarnings(\"ignore\")"
   ]
  },
  {
   "cell_type": "code",
   "execution_count": null,
   "metadata": {},
   "outputs": [],
   "source": [
    "regressor = [time1, fluxbkg]\n",
    "regressor = np.array(regressor)\n",
    "\n",
    "df = [time1, fluxbkg]\n",
    "df = pd.DataFrame(data = df)\n",
    "dmatrix = lk.DesignMatrix(regressor, name='regressors')\n",
    "dmatrix = dmatrix.pca()\n",
    "corrector = lk.RegressionCorrector(model1)\n",
    "corrected_lc = corrector.correct(model1, dmatrix)\n",
    "corrected_lc.scatter()\n",
    "plt.show()\n",
    "corrector.model_lc\n",
    "model = corrector.model_lc\n",
    "model.plot()\n",
    "plt.show()\n",
    "model -= np.percentile(model.flux, 5)\n",
    "corrected_lc = model1 - model\n",
    "corrected_lc.plot()"
   ]
  },
  {
   "cell_type": "code",
   "execution_count": 11,
   "metadata": {},
   "outputs": [
    {
     "ename": "NameError",
     "evalue": "name 'flux1' is not defined",
     "output_type": "error",
     "traceback": [
      "\u001b[1;31m---------------------------------------------------------------------------\u001b[0m",
      "\u001b[1;31mNameError\u001b[0m                                 Traceback (most recent call last)",
      "\u001b[1;32m<ipython-input-11-938ede47ea1f>\u001b[0m in \u001b[0;36m<module>\u001b[1;34m\u001b[0m\n\u001b[1;32m----> 1\u001b[1;33m \u001b[0mtotalflux\u001b[0m \u001b[1;33m=\u001b[0m \u001b[0mflux1\u001b[0m \u001b[1;33m+\u001b[0m \u001b[0mfluxbkg\u001b[0m\u001b[1;33m\u001b[0m\u001b[1;33m\u001b[0m\u001b[0m\n\u001b[0m\u001b[0;32m      2\u001b[0m \u001b[1;31m#Now trying Regression corrector from lightkurve\u001b[0m\u001b[1;33m\u001b[0m\u001b[1;33m\u001b[0m\u001b[1;33m\u001b[0m\u001b[0m\n\u001b[0;32m      3\u001b[0m \u001b[0mdm\u001b[0m \u001b[1;33m=\u001b[0m \u001b[0mlk\u001b[0m\u001b[1;33m.\u001b[0m\u001b[0mDesignMatrix\u001b[0m\u001b[1;33m(\u001b[0m\u001b[0mtotalflux\u001b[0m\u001b[1;33m,\u001b[0m \u001b[0mname\u001b[0m\u001b[1;33m=\u001b[0m\u001b[1;34m'regressors'\u001b[0m\u001b[1;33m)\u001b[0m\u001b[1;33m\u001b[0m\u001b[1;33m\u001b[0m\u001b[0m\n\u001b[0;32m      4\u001b[0m \u001b[0mprint\u001b[0m\u001b[1;33m(\u001b[0m\u001b[0mdm\u001b[0m\u001b[1;33m)\u001b[0m\u001b[1;33m\u001b[0m\u001b[1;33m\u001b[0m\u001b[0m\n\u001b[0;32m      5\u001b[0m \u001b[0mplt\u001b[0m\u001b[1;33m.\u001b[0m\u001b[0mplot\u001b[0m\u001b[1;33m(\u001b[0m\u001b[0mtime1\u001b[0m\u001b[1;33m,\u001b[0m \u001b[0mdm\u001b[0m\u001b[1;33m.\u001b[0m\u001b[0mvalues\u001b[0m \u001b[1;33m+\u001b[0m \u001b[0mnp\u001b[0m\u001b[1;33m.\u001b[0m\u001b[0marange\u001b[0m\u001b[1;33m(\u001b[0m\u001b[1;36m5\u001b[0m\u001b[1;33m)\u001b[0m\u001b[1;33m*\u001b[0m\u001b[1;36m0.2\u001b[0m\u001b[1;33m,\u001b[0m \u001b[1;34m'.'\u001b[0m\u001b[1;33m)\u001b[0m\u001b[1;33m\u001b[0m\u001b[1;33m\u001b[0m\u001b[0m\n",
      "\u001b[1;31mNameError\u001b[0m: name 'flux1' is not defined"
     ]
    }
   ],
   "source": [
    "totalflux = flux1 + fluxbkg\n",
    "#Now trying Regression corrector from lk\n",
    "regressor = [time1, flux1, fluxbkg]\n",
    "dm = lk.DesignMatrix(regressor, name='regressor')\n",
    "print(dm)\n",
    "plt.plot(time1, dm.values)\n",
    "plt.show()\n",
    "\n",
    "dm.plot()\n",
    "plt.show()\n",
    "dm = dm.append_constant()\n",
    "corrector = lk.RegressionCorrector(model1)\n",
    "corrected_lc = corrector.correct(model1, dm)\n",
    "\n",
    "corrector.model_lc\n",
    "model = corrector.model_lc\n",
    "model.plot()\n",
    "plt.show()\n",
    "model -= np.percentile(model.flux, 5)\n",
    "corrected_lc = model1 - model\n",
    "corrected_lc.plot()"
   ]
  },
  {
   "cell_type": "code",
   "execution_count": null,
   "metadata": {},
   "outputs": [],
   "source": []
  }
 ],
 "metadata": {
  "kernelspec": {
   "display_name": "Python 3",
   "language": "python",
   "name": "python3"
  },
  "language_info": {
   "codemirror_mode": {
    "name": "ipython",
    "version": 3
   },
   "file_extension": ".py",
   "mimetype": "text/x-python",
   "name": "python",
   "nbconvert_exporter": "python",
   "pygments_lexer": "ipython3",
   "version": "3.7.3"
  }
 },
 "nbformat": 4,
 "nbformat_minor": 2
}
